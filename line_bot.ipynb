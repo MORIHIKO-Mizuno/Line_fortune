{
 "cells": [
  {
   "cell_type": "code",
   "execution_count": 4,
   "metadata": {},
   "outputs": [
    {
     "name": "stdout",
     "output_type": "stream",
     "text": [
      "Good Bye Cruel World!\n"
     ]
    }
   ],
   "source": [
    "import requests\n",
    "import sys\n",
    "sys.path.append('../API')  # 親ディレクトリのパスを追加\n",
    "import line_notify_api\n",
    "\n",
    "# 取得したTokenを代入\n",
    "line_notify_token=line_notify_api.line_notify_token\n",
    "\n",
    "# 送信したいメッセージ\n",
    "message = 'Good Bye Cruel World!'\n",
    "\n",
    "# Line Notifyを使った、送信部分\n",
    "# line_notify_api = 'https://notify-api.line.me/api/notify'\n",
    "# headers = {'Authorization': f'Bearer {line_notify_token}'}\n",
    "# data = {'message': f'{message}'}\n",
    "# requests.post(line_notify_api, headers=headers, data=data)\n",
    "print(message)"
   ]
  }
 ],
 "metadata": {
  "kernelspec": {
   "display_name": "base",
   "language": "python",
   "name": "python3"
  },
  "language_info": {
   "codemirror_mode": {
    "name": "ipython",
    "version": 3
   },
   "file_extension": ".py",
   "mimetype": "text/x-python",
   "name": "python",
   "nbconvert_exporter": "python",
   "pygments_lexer": "ipython3",
   "version": "3.9.12"
  },
  "orig_nbformat": 4
 },
 "nbformat": 4,
 "nbformat_minor": 2
}
